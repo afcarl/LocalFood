{
 "cells": [
  {
   "cell_type": "code",
   "execution_count": 1,
   "metadata": {
    "collapsed": true
   },
   "outputs": [],
   "source": [
    "import pandas as pd\n",
    "import numpy as np\n",
    "surplus = pd.read_csv('data/surplus.csv',usecols=[u'FIPS',  u'County Name',u'SURPLUS',\n",
    "       u'COUNTY_x'])\n",
    "distance_matrix = pd.read_csv('data/distance_matrix.csv')\n",
    "distance_matrix = distance_matrix.set_index('county_A')[['county_B','distance','FIPS_A','FIPS_B']]\n",
    "distance_matrix = distance_matrix[distance_matrix.distance != 0.0]\n",
    "surplus['new_surplus'] = surplus.SURPLUS"
   ]
  },
  {
   "cell_type": "code",
   "execution_count": 4,
   "metadata": {
    "collapsed": false
   },
   "outputs": [
    {
     "name": "stderr",
     "output_type": "stream",
     "text": [
      "/home/saf537/anaconda2/lib/python2.7/site-packages/ipykernel/__main__.py:12: SettingWithCopyWarning: \n",
      "A value is trying to be set on a copy of a slice from a DataFrame\n",
      "\n",
      "See the caveats in the documentation: http://pandas.pydata.org/pandas-docs/stable/indexing.html#indexing-view-versus-copy\n"
     ]
    }
   ],
   "source": [
    "for index,county in surplus.iterrows():\n",
    "    deficit = surplus.SURPLUS[index]\n",
    "    county_A = county['County Name']\n",
    "    nearest_counties = distance_matrix.ix[county_A].sort_values(by='distance')\n",
    "    ii = 0 \n",
    "    \n",
    "    while  ii < 4:\n",
    "        indexB,row = nearest_counties.iloc[ii].index,nearest_counties.iloc[ii]\n",
    "        #    #print(surplus[surplus['CountyName']==row.county_B]['SURPLUS'])\n",
    "        val = float(surplus[surplus['FIPS']==row['FIPS_B']]['SURPLUS'])\n",
    "        if val>0.:\n",
    "            surplus.ix[index]['new_surplus'] += val\n",
    "        ii = ii + 1"
   ]
  },
  {
   "cell_type": "code",
   "execution_count": 11,
   "metadata": {
    "collapsed": false
   },
   "outputs": [
    {
     "data": {
      "text/html": [
       "<div>\n",
       "<table border=\"1\" class=\"dataframe\">\n",
       "  <thead>\n",
       "    <tr style=\"text-align: right;\">\n",
       "      <th></th>\n",
       "      <th>FIPS</th>\n",
       "      <th>County Name</th>\n",
       "      <th>SURPLUS</th>\n",
       "      <th>COUNTY_x</th>\n",
       "      <th>new_surplus</th>\n",
       "    </tr>\n",
       "  </thead>\n",
       "  <tbody>\n",
       "    <tr>\n",
       "      <th>3138</th>\n",
       "      <td>56037</td>\n",
       "      <td>Sweetwater</td>\n",
       "      <td>-8158.9000</td>\n",
       "      <td>56037</td>\n",
       "      <td>-8158.9000</td>\n",
       "    </tr>\n",
       "    <tr>\n",
       "      <th>3139</th>\n",
       "      <td>56039</td>\n",
       "      <td>Teton</td>\n",
       "      <td>-4165.1475</td>\n",
       "      <td>56039</td>\n",
       "      <td>-4165.1475</td>\n",
       "    </tr>\n",
       "    <tr>\n",
       "      <th>3140</th>\n",
       "      <td>56041</td>\n",
       "      <td>Uinta</td>\n",
       "      <td>-4164.7325</td>\n",
       "      <td>56041</td>\n",
       "      <td>-4164.7325</td>\n",
       "    </tr>\n",
       "    <tr>\n",
       "      <th>3141</th>\n",
       "      <td>56043</td>\n",
       "      <td>Washakie</td>\n",
       "      <td>-1619.5375</td>\n",
       "      <td>56043</td>\n",
       "      <td>-1619.5375</td>\n",
       "    </tr>\n",
       "    <tr>\n",
       "      <th>3142</th>\n",
       "      <td>56045</td>\n",
       "      <td>Weston</td>\n",
       "      <td>-1420.3375</td>\n",
       "      <td>56045</td>\n",
       "      <td>-1420.3375</td>\n",
       "    </tr>\n",
       "  </tbody>\n",
       "</table>\n",
       "</div>"
      ],
      "text/plain": [
       "       FIPS County Name    SURPLUS  COUNTY_x  new_surplus\n",
       "3138  56037  Sweetwater -8158.9000     56037   -8158.9000\n",
       "3139  56039       Teton -4165.1475     56039   -4165.1475\n",
       "3140  56041       Uinta -4164.7325     56041   -4164.7325\n",
       "3141  56043    Washakie -1619.5375     56043   -1619.5375\n",
       "3142  56045      Weston -1420.3375     56045   -1420.3375"
      ]
     },
     "execution_count": 11,
     "metadata": {},
     "output_type": "execute_result"
    }
   ],
   "source": [
    "surplus.tail()"
   ]
  }
 ],
 "metadata": {
  "kernelspec": {
   "display_name": "Python 2",
   "language": "python",
   "name": "python2"
  },
  "language_info": {
   "codemirror_mode": {
    "name": "ipython",
    "version": 2
   },
   "file_extension": ".py",
   "mimetype": "text/x-python",
   "name": "python",
   "nbconvert_exporter": "python",
   "pygments_lexer": "ipython2",
   "version": "2.7.11"
  }
 },
 "nbformat": 4,
 "nbformat_minor": 0
}
