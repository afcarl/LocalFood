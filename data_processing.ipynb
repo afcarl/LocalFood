{
 "cells": [
  {
   "cell_type": "code",
   "execution_count": 1,
   "metadata": {
    "collapsed": true
   },
   "outputs": [],
   "source": [
    "import pandas as pd"
   ]
  },
  {
   "cell_type": "markdown",
   "metadata": {
    "collapsed": true
   },
   "source": [
    "## Steps\n",
    "\n",
    "- Read population of each county in the USA\n",
    "\n",
    "- Load production per category per county in the USA\n",
    "\n",
    "- Load average needs: Vegetables + Grains + Animal Protein. Scale by population.\n",
    "\n",
    "- Subtract production and needs. There will be surplus and deficit.\n",
    "\n",
    "- Find a way to match surplus and deficit, and to penalize for the distance.\n",
    "\n",
    "## Assumptions\n",
    "\n",
    "- Yield per acre is uniform accross farms."
   ]
  },
  {
   "cell_type": "markdown",
   "metadata": {},
   "source": [
    "## Data Exploration"
   ]
  },
  {
   "cell_type": "code",
   "execution_count": 3,
   "metadata": {
    "collapsed": false
   },
   "outputs": [],
   "source": [
    "local = pd.read_excel('data/DataDownload.xls',sheetname='LOCAL')"
   ]
  },
  {
   "cell_type": "code",
   "execution_count": 4,
   "metadata": {
    "collapsed": false
   },
   "outputs": [
    {
     "data": {
      "text/html": [
       "<div>\n",
       "<table border=\"1\" class=\"dataframe\">\n",
       "  <thead>\n",
       "    <tr style=\"text-align: right;\">\n",
       "      <th></th>\n",
       "      <th>FIPS</th>\n",
       "      <th>State</th>\n",
       "      <th>County</th>\n",
       "      <th>DIRSALES_FARMS07</th>\n",
       "      <th>PCT_LOCLFARM07</th>\n",
       "      <th>PCT_LOCLSALE07</th>\n",
       "      <th>DIRSALES07</th>\n",
       "      <th>PC_DIRSALES07</th>\n",
       "      <th>FMRKT09</th>\n",
       "      <th>FMRKT13</th>\n",
       "      <th>...</th>\n",
       "      <th>BERRY_ACRESPTH07</th>\n",
       "      <th>SLHOUSE07</th>\n",
       "      <th>GHVEG_FARMS07</th>\n",
       "      <th>GHVEG_SQFT07</th>\n",
       "      <th>GHVEG_SQFTPTH07</th>\n",
       "      <th>FOODHUB12</th>\n",
       "      <th>CSA07</th>\n",
       "      <th>AGRITRSM_OPS07</th>\n",
       "      <th>AGRITRSM_RCT07</th>\n",
       "      <th>FARM_TO_SCHOOL</th>\n",
       "    </tr>\n",
       "  </thead>\n",
       "  <tbody>\n",
       "    <tr>\n",
       "      <th>0</th>\n",
       "      <td>1001</td>\n",
       "      <td>AL</td>\n",
       "      <td>Autauga</td>\n",
       "      <td>25.0</td>\n",
       "      <td>6.0</td>\n",
       "      <td>0.6</td>\n",
       "      <td>100.0</td>\n",
       "      <td>2.01</td>\n",
       "      <td>2.0</td>\n",
       "      <td>1.0</td>\n",
       "      <td>...</td>\n",
       "      <td>NaN</td>\n",
       "      <td>0.0</td>\n",
       "      <td>0.0</td>\n",
       "      <td>0.0</td>\n",
       "      <td>0.0</td>\n",
       "      <td>0.0</td>\n",
       "      <td>2.0</td>\n",
       "      <td>7.0</td>\n",
       "      <td>228000.0</td>\n",
       "      <td>0.0</td>\n",
       "    </tr>\n",
       "    <tr>\n",
       "      <th>1</th>\n",
       "      <td>1003</td>\n",
       "      <td>AL</td>\n",
       "      <td>Baldwin</td>\n",
       "      <td>80.0</td>\n",
       "      <td>7.0</td>\n",
       "      <td>0.7</td>\n",
       "      <td>715.0</td>\n",
       "      <td>4.16</td>\n",
       "      <td>4.0</td>\n",
       "      <td>4.0</td>\n",
       "      <td>...</td>\n",
       "      <td>0.457136</td>\n",
       "      <td>1.0</td>\n",
       "      <td>0.0</td>\n",
       "      <td>0.0</td>\n",
       "      <td>0.0</td>\n",
       "      <td>0.0</td>\n",
       "      <td>13.0</td>\n",
       "      <td>18.0</td>\n",
       "      <td>124000.0</td>\n",
       "      <td>0.0</td>\n",
       "    </tr>\n",
       "    <tr>\n",
       "      <th>2</th>\n",
       "      <td>1005</td>\n",
       "      <td>AL</td>\n",
       "      <td>Barbour</td>\n",
       "      <td>18.0</td>\n",
       "      <td>2.9</td>\n",
       "      <td>0.0</td>\n",
       "      <td>11.0</td>\n",
       "      <td>0.37</td>\n",
       "      <td>2.0</td>\n",
       "      <td>3.0</td>\n",
       "      <td>...</td>\n",
       "      <td>NaN</td>\n",
       "      <td>0.0</td>\n",
       "      <td>0.0</td>\n",
       "      <td>0.0</td>\n",
       "      <td>0.0</td>\n",
       "      <td>0.0</td>\n",
       "      <td>1.0</td>\n",
       "      <td>27.0</td>\n",
       "      <td>163000.0</td>\n",
       "      <td>0.0</td>\n",
       "    </tr>\n",
       "    <tr>\n",
       "      <th>3</th>\n",
       "      <td>1007</td>\n",
       "      <td>AL</td>\n",
       "      <td>Bibb</td>\n",
       "      <td>12.0</td>\n",
       "      <td>5.7</td>\n",
       "      <td>NaN</td>\n",
       "      <td>46.0</td>\n",
       "      <td>2.14</td>\n",
       "      <td>1.0</td>\n",
       "      <td>1.0</td>\n",
       "      <td>...</td>\n",
       "      <td>0.279265</td>\n",
       "      <td>0.0</td>\n",
       "      <td>0.0</td>\n",
       "      <td>0.0</td>\n",
       "      <td>0.0</td>\n",
       "      <td>0.0</td>\n",
       "      <td>2.0</td>\n",
       "      <td>5.0</td>\n",
       "      <td>NaN</td>\n",
       "      <td>0.0</td>\n",
       "    </tr>\n",
       "    <tr>\n",
       "      <th>4</th>\n",
       "      <td>1009</td>\n",
       "      <td>AL</td>\n",
       "      <td>Blount</td>\n",
       "      <td>84.0</td>\n",
       "      <td>5.9</td>\n",
       "      <td>0.3</td>\n",
       "      <td>429.0</td>\n",
       "      <td>7.59</td>\n",
       "      <td>1.0</td>\n",
       "      <td>1.0</td>\n",
       "      <td>...</td>\n",
       "      <td>0.492386</td>\n",
       "      <td>0.0</td>\n",
       "      <td>2.0</td>\n",
       "      <td>NaN</td>\n",
       "      <td>NaN</td>\n",
       "      <td>0.0</td>\n",
       "      <td>7.0</td>\n",
       "      <td>10.0</td>\n",
       "      <td>293000.0</td>\n",
       "      <td>0.0</td>\n",
       "    </tr>\n",
       "  </tbody>\n",
       "</table>\n",
       "<p>5 rows × 49 columns</p>\n",
       "</div>"
      ],
      "text/plain": [
       "   FIPS State   County  DIRSALES_FARMS07  PCT_LOCLFARM07  PCT_LOCLSALE07  \\\n",
       "0  1001    AL  Autauga              25.0             6.0             0.6   \n",
       "1  1003    AL  Baldwin              80.0             7.0             0.7   \n",
       "2  1005    AL  Barbour              18.0             2.9             0.0   \n",
       "3  1007    AL     Bibb              12.0             5.7             NaN   \n",
       "4  1009    AL   Blount              84.0             5.9             0.3   \n",
       "\n",
       "   DIRSALES07  PC_DIRSALES07  FMRKT09  FMRKT13       ...        \\\n",
       "0       100.0           2.01      2.0      1.0       ...         \n",
       "1       715.0           4.16      4.0      4.0       ...         \n",
       "2        11.0           0.37      2.0      3.0       ...         \n",
       "3        46.0           2.14      1.0      1.0       ...         \n",
       "4       429.0           7.59      1.0      1.0       ...         \n",
       "\n",
       "   BERRY_ACRESPTH07  SLHOUSE07  GHVEG_FARMS07  GHVEG_SQFT07  GHVEG_SQFTPTH07  \\\n",
       "0               NaN        0.0            0.0           0.0              0.0   \n",
       "1          0.457136        1.0            0.0           0.0              0.0   \n",
       "2               NaN        0.0            0.0           0.0              0.0   \n",
       "3          0.279265        0.0            0.0           0.0              0.0   \n",
       "4          0.492386        0.0            2.0           NaN              NaN   \n",
       "\n",
       "   FOODHUB12  CSA07  AGRITRSM_OPS07  AGRITRSM_RCT07  FARM_TO_SCHOOL  \n",
       "0        0.0    2.0             7.0        228000.0             0.0  \n",
       "1        0.0   13.0            18.0        124000.0             0.0  \n",
       "2        0.0    1.0            27.0        163000.0             0.0  \n",
       "3        0.0    2.0             5.0             NaN             0.0  \n",
       "4        0.0    7.0            10.0        293000.0             0.0  \n",
       "\n",
       "[5 rows x 49 columns]"
      ]
     },
     "execution_count": 4,
     "metadata": {},
     "output_type": "execute_result"
    }
   ],
   "source": [
    "local.head()"
   ]
  },
  {
   "cell_type": "code",
   "execution_count": 5,
   "metadata": {
    "collapsed": false
   },
   "outputs": [
    {
     "data": {
      "text/plain": [
       "Index([u'FIPS', u'State', u'County', u'DIRSALES_FARMS07', u'PCT_LOCLFARM07',\n",
       "       u'PCT_LOCLSALE07', u'DIRSALES07', u'PC_DIRSALES07', u'FMRKT09',\n",
       "       u'FMRKT13', u'PCH_FMRKT_09_13', u'FMRKTPTH09', u'FMRKTPTH13',\n",
       "       u'PCH_FMRKTPTH_09_13', u'FMRKT_SNAP13', u'PCT_FMRKT_SNAP13',\n",
       "       u'FMRKT_WIC13', u'PCT_FMRKT_WIC13', u'FMRKT_WICCASH13',\n",
       "       u'PCT_FMRKT_WICCASH13', u'FMRKT_SFMNP13', u'PCT_FMRKT_SFMNP13',\n",
       "       u'FMRKT_FRVEG13', u'PCT_FRMKT_FRVEG13', u'FMRKT_ANMLPROD13',\n",
       "       u'PCT_FRMKT_ANMLPROD13', u'FMRKT_OTHER13', u'PCT_FMRKT_OTHER13',\n",
       "       u'VEG_FARMS07', u'VEG_ACRES07', u'VEG_ACRESPTH07', u'FRESHVEG_FARMS07',\n",
       "       u'FRESHVEG_ACRES07', u'FRESHVEG_ACRESPTH07', u'ORCHARD_FARMS07',\n",
       "       u'ORCHARD_ACRES07', u'ORCHARD_ACRESPTH07', u'BERRY_FARMS07',\n",
       "       u'BERRY_ACRES07', u'BERRY_ACRESPTH07', u'SLHOUSE07', u'GHVEG_FARMS07',\n",
       "       u'GHVEG_SQFT07', u'GHVEG_SQFTPTH07', u'FOODHUB12', u'CSA07',\n",
       "       u'AGRITRSM_OPS07', u'AGRITRSM_RCT07', u'FARM_TO_SCHOOL'],\n",
       "      dtype='object')"
      ]
     },
     "execution_count": 5,
     "metadata": {},
     "output_type": "execute_result"
    }
   ],
   "source": [
    "local.columns"
   ]
  },
  {
   "cell_type": "code",
   "execution_count": 17,
   "metadata": {
    "collapsed": false
   },
   "outputs": [],
   "source": [
    "vegetables = local[['FIPS','State', 'County','VEG_ACRES07', 'FRESHVEG_ACRES07', 'GHVEG_FARMS07']]"
   ]
  },
  {
   "cell_type": "code",
   "execution_count": 20,
   "metadata": {
    "collapsed": false
   },
   "outputs": [
    {
     "data": {
      "text/plain": [
       "1941"
      ]
     },
     "execution_count": 20,
     "metadata": {},
     "output_type": "execute_result"
    }
   ],
   "source": [
    "len(pd.unique(vegetables['County']))"
   ]
  },
  {
   "cell_type": "code",
   "execution_count": 18,
   "metadata": {
    "collapsed": false
   },
   "outputs": [],
   "source": [
    "non_na_vegetables = vegetables.dropna()"
   ]
  },
  {
   "cell_type": "code",
   "execution_count": 13,
   "metadata": {
    "collapsed": false
   },
   "outputs": [
    {
     "data": {
      "text/plain": [
       "2       True\n",
       "4       True\n",
       "7       True\n",
       "8       True\n",
       "10      True\n",
       "11      True\n",
       "12      True\n",
       "14      True\n",
       "15      True\n",
       "17      True\n",
       "18      True\n",
       "19      True\n",
       "22      True\n",
       "23      True\n",
       "27      True\n",
       "32      True\n",
       "33      True\n",
       "36      True\n",
       "41      True\n",
       "42      True\n",
       "44      True\n",
       "46      True\n",
       "47      True\n",
       "48      True\n",
       "51      True\n",
       "52      True\n",
       "55      True\n",
       "58      True\n",
       "59      True\n",
       "60      True\n",
       "        ... \n",
       "3134    True\n",
       "3135    True\n",
       "3136    True\n",
       "3137    True\n",
       "3138    True\n",
       "3139    True\n",
       "3140    True\n",
       "3141    True\n",
       "3142    True\n",
       "3143    True\n",
       "3146    True\n",
       "3147    True\n",
       "3148    True\n",
       "3149    True\n",
       "3150    True\n",
       "3151    True\n",
       "3152    True\n",
       "3155    True\n",
       "3157    True\n",
       "3160    True\n",
       "3163    True\n",
       "3165    True\n",
       "3168    True\n",
       "3170    True\n",
       "3171    True\n",
       "3172    True\n",
       "3173    True\n",
       "3174    True\n",
       "3175    True\n",
       "3176    True\n",
       "dtype: bool"
      ]
     },
     "execution_count": 13,
     "metadata": {},
     "output_type": "execute_result"
    }
   ],
   "source": [
    "non_na_vegetables['VEG_ACRES07'] >= non_na_vegetables['FRESHVEG_ACRES07']"
   ]
  },
  {
   "cell_type": "code",
   "execution_count": 14,
   "metadata": {
    "collapsed": false
   },
   "outputs": [
    {
     "data": {
      "text/plain": [
       "3740457.0"
      ]
     },
     "execution_count": 14,
     "metadata": {},
     "output_type": "execute_result"
    }
   ],
   "source": [
    "non_na_vegetables['VEG_ACRES07'].sum()"
   ]
  },
  {
   "cell_type": "code",
   "execution_count": 16,
   "metadata": {
    "collapsed": false
   },
   "outputs": [
    {
     "data": {
      "text/plain": [
       "(1796,)"
      ]
     },
     "execution_count": 16,
     "metadata": {},
     "output_type": "execute_result"
    }
   ],
   "source": [
    "non_na_vegetables['FRESHVEG_ACRES07']."
   ]
  },
  {
   "cell_type": "code",
   "execution_count": null,
   "metadata": {
    "collapsed": true
   },
   "outputs": [],
   "source": []
  }
 ],
 "metadata": {
  "kernelspec": {
   "display_name": "Python 2",
   "language": "python",
   "name": "python2"
  },
  "language_info": {
   "codemirror_mode": {
    "name": "ipython",
    "version": 2
   },
   "file_extension": ".py",
   "mimetype": "text/x-python",
   "name": "python",
   "nbconvert_exporter": "python",
   "pygments_lexer": "ipython2",
   "version": "2.7.7rc1"
  }
 },
 "nbformat": 4,
 "nbformat_minor": 0
}
