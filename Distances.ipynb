{
 "cells": [
  {
   "cell_type": "code",
   "execution_count": 1,
   "metadata": {
    "collapsed": true
   },
   "outputs": [],
   "source": [
    "import pandas as pd\n",
    "from math import sin, cos, sqrt, atan2, radians\n",
    "import geopandas as gp\n",
    "import numpy as np\n"
   ]
  },
  {
   "cell_type": "code",
   "execution_count": 12,
   "metadata": {
    "collapsed": false
   },
   "outputs": [],
   "source": [
    "surplus = pd.read_csv('data/surplus.csv')\n",
    "distance_matrix = pd.DataFrame([],columns=['county_A','county_B','distance'])\n",
    "#surplus = surplus[:10]"
   ]
  },
  {
   "cell_type": "code",
   "execution_count": 13,
   "metadata": {
    "collapsed": false
   },
   "outputs": [
    {
     "data": {
      "text/html": [
       "<div>\n",
       "<table border=\"1\" class=\"dataframe\">\n",
       "  <thead>\n",
       "    <tr style=\"text-align: right;\">\n",
       "      <th></th>\n",
       "      <th>FIPS</th>\n",
       "      <th>VEG_ACRES07</th>\n",
       "      <th>FRESHVEG_ACRES07</th>\n",
       "      <th>GHVEG_FARMS07</th>\n",
       "      <th>VEG_PRODUCTION_TONS07</th>\n",
       "      <th>State_y</th>\n",
       "      <th>County Name</th>\n",
       "      <th>Population Estimate, 2007</th>\n",
       "      <th>VEG_CONSUMPTION_TONS07</th>\n",
       "      <th>SURPLUS</th>\n",
       "      <th>COUNTY</th>\n",
       "      <th>geometry</th>\n",
       "      <th>lon</th>\n",
       "      <th>lat</th>\n",
       "    </tr>\n",
       "  </thead>\n",
       "  <tbody>\n",
       "    <tr>\n",
       "      <th>0</th>\n",
       "      <td>1001</td>\n",
       "      <td>NaN</td>\n",
       "      <td>NaN</td>\n",
       "      <td>NaN</td>\n",
       "      <td>0.000000</td>\n",
       "      <td>AL</td>\n",
       "      <td>Autauga</td>\n",
       "      <td>49834</td>\n",
       "      <td>10340.5550</td>\n",
       "      <td>-10340.555000</td>\n",
       "      <td>1001</td>\n",
       "      <td>POLYGON ((-86.524693 32.707057, -86.524434 32....</td>\n",
       "      <td>-86.642746</td>\n",
       "      <td>32.534927</td>\n",
       "    </tr>\n",
       "    <tr>\n",
       "      <th>1</th>\n",
       "      <td>1003</td>\n",
       "      <td>NaN</td>\n",
       "      <td>NaN</td>\n",
       "      <td>NaN</td>\n",
       "      <td>0.000000</td>\n",
       "      <td>AL</td>\n",
       "      <td>Baldwin</td>\n",
       "      <td>172815</td>\n",
       "      <td>35859.1125</td>\n",
       "      <td>-35859.112500</td>\n",
       "      <td>1003</td>\n",
       "      <td>POLYGON ((-87.4124710380697 30.573861767419, -...</td>\n",
       "      <td>-87.722563</td>\n",
       "      <td>30.727574</td>\n",
       "    </tr>\n",
       "    <tr>\n",
       "      <th>2</th>\n",
       "      <td>1005</td>\n",
       "      <td>32.0</td>\n",
       "      <td>30.0</td>\n",
       "      <td>0.0</td>\n",
       "      <td>432.568293</td>\n",
       "      <td>AL</td>\n",
       "      <td>Barbour</td>\n",
       "      <td>29736</td>\n",
       "      <td>6170.2200</td>\n",
       "      <td>-5737.651707</td>\n",
       "      <td>1005</td>\n",
       "      <td>POLYGON ((-85.1328473916616 31.8003700328662, ...</td>\n",
       "      <td>-85.393229</td>\n",
       "      <td>31.869561</td>\n",
       "    </tr>\n",
       "    <tr>\n",
       "      <th>3</th>\n",
       "      <td>1007</td>\n",
       "      <td>NaN</td>\n",
       "      <td>NaN</td>\n",
       "      <td>NaN</td>\n",
       "      <td>0.000000</td>\n",
       "      <td>AL</td>\n",
       "      <td>Bibb</td>\n",
       "      <td>21485</td>\n",
       "      <td>4458.1375</td>\n",
       "      <td>-4458.137500</td>\n",
       "      <td>1007</td>\n",
       "      <td>POLYGON ((-87.116315 32.835597, -87.155294 32....</td>\n",
       "      <td>-87.126466</td>\n",
       "      <td>32.998632</td>\n",
       "    </tr>\n",
       "    <tr>\n",
       "      <th>4</th>\n",
       "      <td>1009</td>\n",
       "      <td>585.0</td>\n",
       "      <td>581.0</td>\n",
       "      <td>2.0</td>\n",
       "      <td>8377.405946</td>\n",
       "      <td>AL</td>\n",
       "      <td>Blount</td>\n",
       "      <td>56866</td>\n",
       "      <td>11799.6950</td>\n",
       "      <td>-3422.289054</td>\n",
       "      <td>1009</td>\n",
       "      <td>POLYGON ((-86.73121499999999 34.014697, -86.72...</td>\n",
       "      <td>-86.567382</td>\n",
       "      <td>33.980870</td>\n",
       "    </tr>\n",
       "  </tbody>\n",
       "</table>\n",
       "</div>"
      ],
      "text/plain": [
       "   FIPS  VEG_ACRES07  FRESHVEG_ACRES07  GHVEG_FARMS07  VEG_PRODUCTION_TONS07  \\\n",
       "0  1001          NaN               NaN            NaN               0.000000   \n",
       "1  1003          NaN               NaN            NaN               0.000000   \n",
       "2  1005         32.0              30.0            0.0             432.568293   \n",
       "3  1007          NaN               NaN            NaN               0.000000   \n",
       "4  1009        585.0             581.0            2.0            8377.405946   \n",
       "\n",
       "  State_y County Name  Population Estimate, 2007  VEG_CONSUMPTION_TONS07  \\\n",
       "0      AL     Autauga                      49834              10340.5550   \n",
       "1      AL     Baldwin                     172815              35859.1125   \n",
       "2      AL     Barbour                      29736               6170.2200   \n",
       "3      AL        Bibb                      21485               4458.1375   \n",
       "4      AL      Blount                      56866              11799.6950   \n",
       "\n",
       "        SURPLUS  COUNTY                                           geometry  \\\n",
       "0 -10340.555000    1001  POLYGON ((-86.524693 32.707057, -86.524434 32....   \n",
       "1 -35859.112500    1003  POLYGON ((-87.4124710380697 30.573861767419, -...   \n",
       "2  -5737.651707    1005  POLYGON ((-85.1328473916616 31.8003700328662, ...   \n",
       "3  -4458.137500    1007  POLYGON ((-87.116315 32.835597, -87.155294 32....   \n",
       "4  -3422.289054    1009  POLYGON ((-86.73121499999999 34.014697, -86.72...   \n",
       "\n",
       "         lon        lat  \n",
       "0 -86.642746  32.534927  \n",
       "1 -87.722563  30.727574  \n",
       "2 -85.393229  31.869561  \n",
       "3 -87.126466  32.998632  \n",
       "4 -86.567382  33.980870  "
      ]
     },
     "execution_count": 13,
     "metadata": {},
     "output_type": "execute_result"
    }
   ],
   "source": [
    "surplus.head()"
   ]
  },
  {
   "cell_type": "code",
   "execution_count": null,
   "metadata": {
    "collapsed": false
   },
   "outputs": [],
   "source": []
  },
  {
   "cell_type": "code",
   "execution_count": null,
   "metadata": {
    "collapsed": false
   },
   "outputs": [],
   "source": []
  },
  {
   "cell_type": "code",
   "execution_count": 14,
   "metadata": {
    "collapsed": true
   },
   "outputs": [],
   "source": [
    "def distance_geog(lat1,lon1,lat2,lon2):\n",
    "    # http://stackoverflow.com/questions/19412462/getting-distance-between-two-points-based-on-latitude-longitude-python\n",
    "    # approximate radius of earth in miles\n",
    "    R = 3959.0\n",
    "\n",
    "    lat1 = radians(lat1)\n",
    "    lon1 = radians(lon1)\n",
    "    lat2 = radians(lat2)\n",
    "    lon2 = radians(lon2)\n",
    "\n",
    "    dlon = lon2 - lon1\n",
    "    dlat = lat2 - lat1\n",
    "\n",
    "    a = sin(dlat / 2)**2 + cos(lat1) * cos(lat2) * sin(dlon / 2)**2\n",
    "    c = 2 * atan2(sqrt(a), sqrt(1 - a))\n",
    "\n",
    "    distance = R * c\n",
    "\n",
    "    return distance"
   ]
  },
  {
   "cell_type": "code",
   "execution_count": 16,
   "metadata": {
    "collapsed": false
   },
   "outputs": [
    {
     "ename": "KeyboardInterrupt",
     "evalue": "",
     "output_type": "error",
     "traceback": [
      "\u001b[0;31m---------------------------------------------------------------------------\u001b[0m",
      "\u001b[0;31mKeyboardInterrupt\u001b[0m                         Traceback (most recent call last)",
      "\u001b[0;32m<ipython-input-16-027f1824d315>\u001b[0m in \u001b[0;36m<module>\u001b[0;34m()\u001b[0m\n\u001b[1;32m      6\u001b[0m         \u001b[0mcl\u001b[0m \u001b[0;34m=\u001b[0m \u001b[0;34m{\u001b[0m\u001b[0;34m'county_A'\u001b[0m\u001b[0;34m:\u001b[0m \u001b[0mcounty_A\u001b[0m\u001b[0;34m[\u001b[0m\u001b[0;34m'County Name'\u001b[0m\u001b[0;34m]\u001b[0m\u001b[0;34m,\u001b[0m\u001b[0;34m'county_B'\u001b[0m\u001b[0;34m:\u001b[0m \u001b[0mcounty_B\u001b[0m\u001b[0;34m[\u001b[0m\u001b[0;34m'County Name'\u001b[0m\u001b[0;34m]\u001b[0m\u001b[0;34m,\u001b[0m\u001b[0;34m'distance'\u001b[0m\u001b[0;34m:\u001b[0m \u001b[0md_g\u001b[0m\u001b[0;34m}\u001b[0m\u001b[0;34m\u001b[0m\u001b[0m\n\u001b[1;32m      7\u001b[0m         \u001b[0;31m#print(cl.values())\u001b[0m\u001b[0;34m\u001b[0m\u001b[0;34m\u001b[0m\u001b[0m\n\u001b[0;32m----> 8\u001b[0;31m         \u001b[0mdistance_matrix\u001b[0m \u001b[0;34m=\u001b[0m \u001b[0mdistance_matrix\u001b[0m\u001b[0;34m.\u001b[0m\u001b[0mappend\u001b[0m\u001b[0;34m(\u001b[0m\u001b[0mpd\u001b[0m\u001b[0;34m.\u001b[0m\u001b[0mDataFrame\u001b[0m\u001b[0;34m(\u001b[0m\u001b[0mdata\u001b[0m\u001b[0;34m=\u001b[0m\u001b[0mnp\u001b[0m\u001b[0;34m.\u001b[0m\u001b[0marray\u001b[0m\u001b[0;34m(\u001b[0m\u001b[0mcl\u001b[0m\u001b[0;34m.\u001b[0m\u001b[0mvalues\u001b[0m\u001b[0;34m(\u001b[0m\u001b[0;34m)\u001b[0m\u001b[0;34m)\u001b[0m\u001b[0;34m.\u001b[0m\u001b[0mreshape\u001b[0m\u001b[0;34m(\u001b[0m\u001b[0;36m1\u001b[0m\u001b[0;34m,\u001b[0m\u001b[0;36m3\u001b[0m\u001b[0;34m)\u001b[0m\u001b[0;34m,\u001b[0m\u001b[0mcolumns\u001b[0m\u001b[0;34m=\u001b[0m\u001b[0;34m[\u001b[0m\u001b[0;34m'county_A'\u001b[0m\u001b[0;34m,\u001b[0m\u001b[0;34m'county_B'\u001b[0m\u001b[0;34m,\u001b[0m\u001b[0;34m'distance'\u001b[0m\u001b[0;34m]\u001b[0m\u001b[0;34m)\u001b[0m\u001b[0;34m)\u001b[0m\u001b[0;34m\u001b[0m\u001b[0m\n\u001b[0m\u001b[1;32m      9\u001b[0m \u001b[0;34m\u001b[0m\u001b[0m\n\u001b[1;32m     10\u001b[0m         \u001b[0;31m#distance_matrix['county_B'].append(county_B['County Name'])\u001b[0m\u001b[0;34m\u001b[0m\u001b[0;34m\u001b[0m\u001b[0m\n",
      "\u001b[0;31mKeyboardInterrupt\u001b[0m: "
     ]
    }
   ],
   "source": [
    "\n",
    "for index,county_A in surplus.iterrows():\n",
    "    for index,county_B in surplus.iterrows():\n",
    "        d_g = distance_geog(county_A['lat'],county_A['lon'],county_B['lat'],county_B['lon'])\n",
    "        #distance_matrix = distance_matrix.append(pd.DataFrame([county_A['County Name'],county_B['County Name'],d_g],columns=['county_A','county_B','distance']))\n",
    "        cl = {'county_A': county_A['County Name'],'county_B': county_B['County Name'],'distance': d_g}\n",
    "        #print(cl.values())\n",
    "        distance_matrix = distance_matrix.append(pd.DataFrame(data=np.array(cl.values()).reshape(1,3),columns=['county_A','county_B','distance']))\n",
    "        \n",
    "        #distance_matrix['county_B'].append(county_B['County Name'])\n",
    "        #distance_matrix['distance'].append(distance_geog(county_A['lat'],county_A['lon'],county_B['lat'],county_B['lon']))\n",
    "            #distance_matrix['county_A'] = county_A['County Name']\n",
    "            #distance_matrix['county_B'] = county_B['County Name']\n",
    "            #distance_matrix['distance'] = distance_geog(county_A['lat'],county_A['lon'],county_B['lat'],county_B['lon'])\n",
    "\n",
    "\n",
    "            "
   ]
  },
  {
   "cell_type": "code",
   "execution_count": null,
   "metadata": {
    "collapsed": true
   },
   "outputs": [],
   "source": []
  }
 ],
 "metadata": {
  "kernelspec": {
   "display_name": "Python 2",
   "language": "python",
   "name": "python2"
  },
  "language_info": {
   "codemirror_mode": {
    "name": "ipython",
    "version": 2
   },
   "file_extension": ".py",
   "mimetype": "text/x-python",
   "name": "python",
   "nbconvert_exporter": "python",
   "pygments_lexer": "ipython2",
   "version": "2.7.7rc1"
  }
 },
 "nbformat": 4,
 "nbformat_minor": 0
}
